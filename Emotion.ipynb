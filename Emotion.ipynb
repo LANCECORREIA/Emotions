{
  "cells": [
    {
      "cell_type": "code",
      "execution_count": null,
      "metadata": {
        "colab": {
          "base_uri": "https://localhost:8080/"
        },
        "id": "56Ek2eRs1mFR",
        "outputId": "61fc9566-15cb-4bd9-b8ff-bee3584c9c20"
      },
      "outputs": [
        {
          "output_type": "stream",
          "name": "stdout",
          "text": [
            "Mounted at /content/drive\n"
          ]
        }
      ],
      "source": [
        "from google.colab import drive\n",
        "drive.mount('/content/drive')"
      ]
    },
    {
      "cell_type": "code",
      "execution_count": null,
      "metadata": {
        "id": "O68gInrjPb2X"
      },
      "outputs": [],
      "source": [
        "\n",
        "import numpy as np\n",
        "import pandas as pd\n",
        "import matplotlib.pyplot as plt\n",
        "import seaborn as sns\n",
        "%matplotlib inline\n",
        "\n",
        "np.random.seed(2)\n",
        "\n",
        "\n",
        "import keras\n",
        "from keras.preprocessing.image import ImageDataGenerator\n",
        "from keras.callbacks import ReduceLROnPlateau\n",
        "from keras.utils.np_utils import to_categorical\n",
        "from keras.models import Sequential\n",
        "import tensorflow.keras.optimizers as opt\n",
        "from keras.layers.convolutional import Conv2D, MaxPooling2D, SeparableConv2D\n",
        "from keras.layers.core import Dropout, Flatten, Dense\n",
        "from tensorflow.keras.layers import BatchNormalization\n",
        "from keras.layers import Input"
      ]
    },
    {
      "cell_type": "code",
      "execution_count": null,
      "metadata": {
        "colab": {
          "base_uri": "https://localhost:8080/",
          "height": 206
        },
        "id": "V2hhTa1iPb2Y",
        "outputId": "aa12ca6d-5c9a-46a1-8620-fc821dccd943"
      },
      "outputs": [
        {
          "output_type": "execute_result",
          "data": {
            "text/plain": [
              "   emotion                                             pixels     Usage\n",
              "0        0  70 80 82 72 58 58 60 63 54 58 60 48 89 115 121...  Training\n",
              "1        0  151 150 147 155 148 133 111 140 170 174 182 15...  Training\n",
              "2        2  231 212 156 164 174 138 161 173 182 200 106 38...  Training\n",
              "3        4  24 32 36 30 32 23 19 20 30 41 21 22 32 34 21 1...  Training\n",
              "4        6  4 0 0 0 0 0 0 0 0 0 0 0 3 15 23 28 48 50 58 84...  Training"
            ],
            "text/html": [
              "\n",
              "  <div id=\"df-dba51cdd-3ab0-45ae-b4e9-9b650da4f92f\">\n",
              "    <div class=\"colab-df-container\">\n",
              "      <div>\n",
              "<style scoped>\n",
              "    .dataframe tbody tr th:only-of-type {\n",
              "        vertical-align: middle;\n",
              "    }\n",
              "\n",
              "    .dataframe tbody tr th {\n",
              "        vertical-align: top;\n",
              "    }\n",
              "\n",
              "    .dataframe thead th {\n",
              "        text-align: right;\n",
              "    }\n",
              "</style>\n",
              "<table border=\"1\" class=\"dataframe\">\n",
              "  <thead>\n",
              "    <tr style=\"text-align: right;\">\n",
              "      <th></th>\n",
              "      <th>emotion</th>\n",
              "      <th>pixels</th>\n",
              "      <th>Usage</th>\n",
              "    </tr>\n",
              "  </thead>\n",
              "  <tbody>\n",
              "    <tr>\n",
              "      <th>0</th>\n",
              "      <td>0</td>\n",
              "      <td>70 80 82 72 58 58 60 63 54 58 60 48 89 115 121...</td>\n",
              "      <td>Training</td>\n",
              "    </tr>\n",
              "    <tr>\n",
              "      <th>1</th>\n",
              "      <td>0</td>\n",
              "      <td>151 150 147 155 148 133 111 140 170 174 182 15...</td>\n",
              "      <td>Training</td>\n",
              "    </tr>\n",
              "    <tr>\n",
              "      <th>2</th>\n",
              "      <td>2</td>\n",
              "      <td>231 212 156 164 174 138 161 173 182 200 106 38...</td>\n",
              "      <td>Training</td>\n",
              "    </tr>\n",
              "    <tr>\n",
              "      <th>3</th>\n",
              "      <td>4</td>\n",
              "      <td>24 32 36 30 32 23 19 20 30 41 21 22 32 34 21 1...</td>\n",
              "      <td>Training</td>\n",
              "    </tr>\n",
              "    <tr>\n",
              "      <th>4</th>\n",
              "      <td>6</td>\n",
              "      <td>4 0 0 0 0 0 0 0 0 0 0 0 3 15 23 28 48 50 58 84...</td>\n",
              "      <td>Training</td>\n",
              "    </tr>\n",
              "  </tbody>\n",
              "</table>\n",
              "</div>\n",
              "      <button class=\"colab-df-convert\" onclick=\"convertToInteractive('df-dba51cdd-3ab0-45ae-b4e9-9b650da4f92f')\"\n",
              "              title=\"Convert this dataframe to an interactive table.\"\n",
              "              style=\"display:none;\">\n",
              "        \n",
              "  <svg xmlns=\"http://www.w3.org/2000/svg\" height=\"24px\"viewBox=\"0 0 24 24\"\n",
              "       width=\"24px\">\n",
              "    <path d=\"M0 0h24v24H0V0z\" fill=\"none\"/>\n",
              "    <path d=\"M18.56 5.44l.94 2.06.94-2.06 2.06-.94-2.06-.94-.94-2.06-.94 2.06-2.06.94zm-11 1L8.5 8.5l.94-2.06 2.06-.94-2.06-.94L8.5 2.5l-.94 2.06-2.06.94zm10 10l.94 2.06.94-2.06 2.06-.94-2.06-.94-.94-2.06-.94 2.06-2.06.94z\"/><path d=\"M17.41 7.96l-1.37-1.37c-.4-.4-.92-.59-1.43-.59-.52 0-1.04.2-1.43.59L10.3 9.45l-7.72 7.72c-.78.78-.78 2.05 0 2.83L4 21.41c.39.39.9.59 1.41.59.51 0 1.02-.2 1.41-.59l7.78-7.78 2.81-2.81c.8-.78.8-2.07 0-2.86zM5.41 20L4 18.59l7.72-7.72 1.47 1.35L5.41 20z\"/>\n",
              "  </svg>\n",
              "      </button>\n",
              "      \n",
              "  <style>\n",
              "    .colab-df-container {\n",
              "      display:flex;\n",
              "      flex-wrap:wrap;\n",
              "      gap: 12px;\n",
              "    }\n",
              "\n",
              "    .colab-df-convert {\n",
              "      background-color: #E8F0FE;\n",
              "      border: none;\n",
              "      border-radius: 50%;\n",
              "      cursor: pointer;\n",
              "      display: none;\n",
              "      fill: #1967D2;\n",
              "      height: 32px;\n",
              "      padding: 0 0 0 0;\n",
              "      width: 32px;\n",
              "    }\n",
              "\n",
              "    .colab-df-convert:hover {\n",
              "      background-color: #E2EBFA;\n",
              "      box-shadow: 0px 1px 2px rgba(60, 64, 67, 0.3), 0px 1px 3px 1px rgba(60, 64, 67, 0.15);\n",
              "      fill: #174EA6;\n",
              "    }\n",
              "\n",
              "    [theme=dark] .colab-df-convert {\n",
              "      background-color: #3B4455;\n",
              "      fill: #D2E3FC;\n",
              "    }\n",
              "\n",
              "    [theme=dark] .colab-df-convert:hover {\n",
              "      background-color: #434B5C;\n",
              "      box-shadow: 0px 1px 3px 1px rgba(0, 0, 0, 0.15);\n",
              "      filter: drop-shadow(0px 1px 2px rgba(0, 0, 0, 0.3));\n",
              "      fill: #FFFFFF;\n",
              "    }\n",
              "  </style>\n",
              "\n",
              "      <script>\n",
              "        const buttonEl =\n",
              "          document.querySelector('#df-dba51cdd-3ab0-45ae-b4e9-9b650da4f92f button.colab-df-convert');\n",
              "        buttonEl.style.display =\n",
              "          google.colab.kernel.accessAllowed ? 'block' : 'none';\n",
              "\n",
              "        async function convertToInteractive(key) {\n",
              "          const element = document.querySelector('#df-dba51cdd-3ab0-45ae-b4e9-9b650da4f92f');\n",
              "          const dataTable =\n",
              "            await google.colab.kernel.invokeFunction('convertToInteractive',\n",
              "                                                     [key], {});\n",
              "          if (!dataTable) return;\n",
              "\n",
              "          const docLinkHtml = 'Like what you see? Visit the ' +\n",
              "            '<a target=\"_blank\" href=https://colab.research.google.com/notebooks/data_table.ipynb>data table notebook</a>'\n",
              "            + ' to learn more about interactive tables.';\n",
              "          element.innerHTML = '';\n",
              "          dataTable['output_type'] = 'display_data';\n",
              "          await google.colab.output.renderOutput(dataTable, element);\n",
              "          const docLink = document.createElement('div');\n",
              "          docLink.innerHTML = docLinkHtml;\n",
              "          element.appendChild(docLink);\n",
              "        }\n",
              "      </script>\n",
              "    </div>\n",
              "  </div>\n",
              "  "
            ]
          },
          "metadata": {},
          "execution_count": 5
        }
      ],
      "source": [
        "data = pd.read_csv(\"drive/MyDrive/fer2013.csv\")\n",
        "data.head()"
      ]
    },
    {
      "cell_type": "code",
      "execution_count": null,
      "metadata": {
        "colab": {
          "base_uri": "https://localhost:8080/"
        },
        "id": "xMF9gUMbPb2Y",
        "outputId": "2b137999-ec2b-4d67-b991-9e875f31fc43"
      },
      "outputs": [
        {
          "output_type": "stream",
          "name": "stdout",
          "text": [
            "       emotion                                             pixels        Usage\n",
            "32298        0  170 118 101 88 88 75 78 82 66 74 68 59 63 64 6...  PrivateTest\n",
            "32299        5  7 5 8 6 7 3 2 6 5 4 4 5 7 5 5 5 6 7 7 7 10 10 ...  PrivateTest\n",
            "32300        6  232 240 241 239 237 235 246 117 24 24 22 13 12...  PrivateTest\n",
            "32301        4  200 197 149 139 156 89 111 58 62 95 113 117 11...  PrivateTest\n",
            "32302        2  40 28 33 56 45 33 31 78 152 194 200 186 196 20...  PrivateTest\n",
            "...        ...                                                ...          ...\n",
            "35882        6  50 36 17 22 23 29 33 39 34 37 37 37 39 43 48 5...  PrivateTest\n",
            "35883        3  178 174 172 173 181 188 191 194 196 199 200 20...  PrivateTest\n",
            "35884        0  17 17 16 23 28 22 19 17 25 26 20 24 31 19 27 9...  PrivateTest\n",
            "35885        3  30 28 28 29 31 30 42 68 79 81 77 67 67 71 63 6...  PrivateTest\n",
            "35886        2  19 13 14 12 13 16 21 33 50 57 71 84 97 108 122...  PrivateTest\n",
            "\n",
            "[3589 rows x 3 columns]\n"
          ]
        }
      ],
      "source": [
        "groups = [g for _, g in data.groupby('Usage')]\n",
        "train = groups[2]\n",
        "val = groups[1]\n",
        "test = groups[0]\n",
        "print(groups[0])"
      ]
    },
    {
      "cell_type": "code",
      "execution_count": null,
      "metadata": {
        "id": "E9idJobVPb2Z"
      },
      "outputs": [],
      "source": [
        "train = train.drop(labels=['Usage'], axis=1)\n",
        "val = val.drop(labels=['Usage'], axis=1)\n",
        "test = test.drop(labels=['Usage'], axis=1)\n",
        "\n",
        "Y_train = train[\"emotion\"]\n",
        "Y_val = val[\"emotion\"]\n",
        "Y_test = test[\"emotion\"]\n",
        "#'Angry', 'Disgust', 'Fear', 'Happy', 'Sad', 'Surprise', 'Neutral'#\n",
        "\n",
        "X_train = train[\"pixels\"]\n",
        "X_val = val[\"pixels\"]\n",
        "X_test = test[\"pixels\"]"
      ]
    },
    {
      "cell_type": "code",
      "execution_count": null,
      "metadata": {
        "id": "Oc6cW3jiPb2Z"
      },
      "outputs": [],
      "source": [
        "def preprocess(X):\n",
        "    X = np.array([np.fromstring(image, np.uint8, sep=' ') for image in X])\n",
        "    X = X/255.0\n",
        "    X = X.reshape(-1, 48, 48, 1)\n",
        "    return X"
      ]
    },
    {
      "cell_type": "code",
      "execution_count": null,
      "metadata": {
        "id": "EEwJs_BLPb2Z"
      },
      "outputs": [],
      "source": [
        "X_train = preprocess(X_train)\n",
        "X_val = preprocess(X_val)\n",
        "X_test = preprocess(X_test)"
      ]
    },
    {
      "cell_type": "code",
      "execution_count": null,
      "metadata": {
        "id": "eeI2-e4JPb2a",
        "colab": {
          "base_uri": "https://localhost:8080/",
          "height": 284
        },
        "outputId": "f703cf28-1db1-4dc7-8e0b-f15d54d96f33"
      },
      "outputs": [
        {
          "output_type": "execute_result",
          "data": {
            "text/plain": [
              "<matplotlib.image.AxesImage at 0x7fce383dd410>"
            ]
          },
          "metadata": {},
          "execution_count": 25
        },
        {
          "output_type": "display_data",
          "data": {
            "text/plain": [
              "<Figure size 432x288 with 1 Axes>"
            ],
            "image/png": "[encoded data removed]"
          },
          "metadata": {
            "needs_background": "light"
          }
        }
      ],
      "source": [
        "plt.imshow(X_train[1][:,:,0],cmap='gray')"
      ]
    },
    {
      "cell_type": "code",
      "execution_count": null,
      "metadata": {
        "colab": {
          "base_uri": "https://localhost:8080/",
          "height": 394
        },
        "id": "tfsQMUdOPb2a",
        "outputId": "f08122ae-4e3c-42a8-891a-3910dc666540"
      },
      "outputs": [
        {
          "output_type": "execute_result",
          "data": {
            "text/plain": [
              "Text(0.5, 1.0, 'Counts per emotion in testing set')"
            ]
          },
          "metadata": {},
          "execution_count": 35
        },
        {
          "output_type": "display_data",
          "data": {
            "text/plain": [
              "<Figure size 2160x504 with 3 Axes>"
            ],
            "image/png": "[encoded data removed]"
          },
          "metadata": {
            "needs_background": "light"
          }
        }
      ],
      "source": [
        "\n",
        "plt.figure(figsize=(30, 7))\n",
        "\n",
        "plt.subplot(1,3,1)\n",
        "ax = sns.countplot(x=Y_train)\n",
        "ax.set(ylabel=\"count\", xlabel=\"emotion\")\n",
        "plt.title(\"Counts per emotion in training set\")\n",
        "\n",
        "plt.subplot(1,3,2)\n",
        "ax = sns.countplot(x=Y_val)\n",
        "ax.set(ylabel=\"count\", xlabel=\"emotion\")\n",
        "plt.title(\"Counts per emotion in validation set\")\n",
        "\n",
        "plt.subplot(1,3,3)\n",
        "ax = sns.countplot(x=Y_test)\n",
        "ax.set(ylabel=\"count\", xlabel=\"emotion\")\n",
        "plt.title(\"Counts per emotion in testing set\")"
      ]
    },
    {
      "cell_type": "code",
      "execution_count": null,
      "metadata": {
        "colab": {
          "base_uri": "https://localhost:8080/"
        },
        "id": "iZPYVH-RPb2a",
        "outputId": "f57888db-33f3-4e89-f0cb-7bb786e81dc9"
      },
      "outputs": [
        {
          "output_type": "stream",
          "name": "stdout",
          "text": [
            "Is any label null in training set: False\n",
            "Is any label null in validation set: False\n",
            "Is any label null in testing set: False\n"
          ]
        }
      ],
      "source": [
        "print(\"Is any label null in training set:\", Y_train.isnull().any())\n",
        "print(\"Is any label null in validation set:\", Y_val.isnull().any())\n",
        "print(\"Is any label null in testing set:\", Y_test.isnull().any())\n",
        "\n",
        "\n",
        "Y_train = to_categorical(Y_train, num_classes=7)\n",
        "Y_val = to_categorical(Y_val, num_classes=7)\n",
        "Y_test = to_categorical(Y_test, num_classes=7)"
      ]
    },
    {
      "cell_type": "code",
      "execution_count": null,
      "metadata": {
        "id": "VIRoP7Y_Pb2b"
      },
      "outputs": [],
      "source": [
        "model = Sequential()\n",
        "model.add(Conv2D(32, (3,3), padding=\"Same\", activation='relu', input_shape=(48,48,1)))\n",
        "model.add(BatchNormalization())\n",
        "model.add(Conv2D(32, (5,5), padding=\"Same\", activation='relu'))\n",
        "model.add(MaxPooling2D((2,2)))\n",
        "model.add(Dropout(0.5))\n",
        "model.add(Conv2D(64, (3,3), padding=\"Same\", activation='relu'))\n",
        "model.add(BatchNormalization())\n",
        "model.add(Conv2D(64, (5,5), padding=\"Same\", activation='relu'))\n",
        "model.add(MaxPooling2D((2,2))) \n",
        "model.add(Dropout(0.5))\n",
        "model.add(Conv2D(128, (3,3), padding=\"Same\", activation='relu'))\n",
        "model.add(BatchNormalization())\n",
        "model.add(Conv2D(128, (5,5), padding=\"Same\", activation='relu'))\n",
        "model.add(MaxPooling2D((2,2))) \n",
        "model.add(Dropout(0.5))\n",
        "model.add(Flatten())\n",
        "model.add(Dense(256, activation='relu'))\n",
        "model.add(Dense(7, activation='softmax'))"
      ]
    },
    {
      "cell_type": "code",
      "execution_count": null,
      "metadata": {
        "id": "AGfX3gAPPb2b"
      },
      "outputs": [],
      "source": [
        "optimizer = opt.Adam(learning_rate = 0.001)\n",
        "lr_anneal = ReduceLROnPlateau(monitor = 'val_accuracy', patience=3, factor=0.2, min_lr=1e-6)\n",
        "model.compile(optimizer=optimizer, loss='categorical_crossentropy', metrics=['accuracy'])"
      ]
    },
    {
      "cell_type": "code",
      "execution_count": null,
      "metadata": {
        "colab": {
          "base_uri": "https://localhost:8080/"
        },
        "id": "gI-CeKi0Pb2b",
        "outputId": "81ca6e37-301a-4037-d59b-a2435ea50564"
      },
      "outputs": [
        {
          "output_type": "stream",
          "name": "stdout",
          "text": [
            "Model: \"sequential\"\n",
            "_________________________________________________________________\n",
            " Layer (type)                Output Shape              Param #   \n",
            "=================================================================\n",
            " conv2d (Conv2D)             (None, 48, 48, 32)        320       \n",
            "                                                                 \n",
            " batch_normalization (BatchN  (None, 48, 48, 32)       128       \n",
            " ormalization)                                                   \n",
            "                                                                 \n",
            " conv2d_1 (Conv2D)           (None, 48, 48, 32)        25632     \n",
            "                                                                 \n",
            " max_pooling2d (MaxPooling2D  (None, 24, 24, 32)       0         \n",
            " )                                                               \n",
            "                                                                 \n",
            " dropout (Dropout)           (None, 24, 24, 32)        0         \n",
            "                                                                 \n",
            " conv2d_2 (Conv2D)           (None, 24, 24, 64)        18496     \n",
            "                                                                 \n",
            " batch_normalization_1 (Batc  (None, 24, 24, 64)       256       \n",
            " hNormalization)                                                 \n",
            "                                                                 \n",
            " conv2d_3 (Conv2D)           (None, 24, 24, 64)        102464    \n",
            "                                                                 \n",
            " max_pooling2d_1 (MaxPooling  (None, 12, 12, 64)       0         \n",
            " 2D)                                                             \n",
            "                                                                 \n",
            " dropout_1 (Dropout)         (None, 12, 12, 64)        0         \n",
            "                                                                 \n",
            " conv2d_4 (Conv2D)           (None, 12, 12, 128)       73856     \n",
            "                                                                 \n",
            " batch_normalization_2 (Batc  (None, 12, 12, 128)      512       \n",
            " hNormalization)                                                 \n",
            "                                                                 \n",
            " conv2d_5 (Conv2D)           (None, 12, 12, 128)       409728    \n",
            "                                                                 \n",
            " max_pooling2d_2 (MaxPooling  (None, 6, 6, 128)        0         \n",
            " 2D)                                                             \n",
            "                                                                 \n",
            " dropout_2 (Dropout)         (None, 6, 6, 128)         0         \n",
            "                                                                 \n",
            " flatten (Flatten)           (None, 4608)              0         \n",
            "                                                                 \n",
            " dense (Dense)               (None, 256)               1179904   \n",
            "                                                                 \n",
            " dense_1 (Dense)             (None, 7)                 1799      \n",
            "                                                                 \n",
            "=================================================================\n",
            "Total params: 1,813,095\n",
            "Trainable params: 1,812,647\n",
            "Non-trainable params: 448\n",
            "_________________________________________________________________\n"
          ]
        }
      ],
      "source": [
        "model.summary()"
      ]
    },
    {
      "cell_type": "code",
      "execution_count": null,
      "metadata": {
        "colab": {
          "base_uri": "https://localhost:8080/"
        },
        "id": "CcgKgtEfPb2b",
        "outputId": "06b73cb8-607b-435c-c613-5f4b2dff8c00"
      },
      "outputs": [
        {
          "output_type": "stream",
          "name": "stdout",
          "text": [
            "Epoch 1/50\n",
            "288/288 [==============================] - 21s 32ms/step - loss: 1.9786 - accuracy: 0.2618 - val_loss: 1.8761 - val_accuracy: 0.2494 - lr: 0.0010\n",
            "Epoch 2/50\n",
            "288/288 [==============================] - 8s 28ms/step - loss: 1.6307 - accuracy: 0.3431 - val_loss: 1.9956 - val_accuracy: 0.2664 - lr: 0.0010\n",
            "Epoch 3/50\n",
            "288/288 [==============================] - 8s 28ms/step - loss: 1.4461 - accuracy: 0.4296 - val_loss: 1.4325 - val_accuracy: 0.4400 - lr: 0.0010\n",
            "Epoch 4/50\n",
            "288/288 [==============================] - 9s 30ms/step - loss: 1.3509 - accuracy: 0.4742 - val_loss: 1.3121 - val_accuracy: 0.4745 - lr: 0.0010\n",
            "Epoch 5/50\n",
            "288/288 [==============================] - 8s 28ms/step - loss: 1.2873 - accuracy: 0.4984 - val_loss: 1.2422 - val_accuracy: 0.5160 - lr: 0.0010\n",
            "Epoch 6/50\n",
            "288/288 [==============================] - 8s 28ms/step - loss: 1.2406 - accuracy: 0.5181 - val_loss: 1.2867 - val_accuracy: 0.4990 - lr: 0.0010\n",
            "Epoch 7/50\n",
            "288/288 [==============================] - 8s 28ms/step - loss: 1.2102 - accuracy: 0.5320 - val_loss: 1.2112 - val_accuracy: 0.5313 - lr: 0.0010\n",
            "Epoch 8/50\n",
            "288/288 [==============================] - 8s 28ms/step - loss: 1.1767 - accuracy: 0.5467 - val_loss: 1.1906 - val_accuracy: 0.5366 - lr: 0.0010\n",
            "Epoch 9/50\n",
            "288/288 [==============================] - 8s 28ms/step - loss: 1.1406 - accuracy: 0.5652 - val_loss: 1.1818 - val_accuracy: 0.5511 - lr: 0.0010\n",
            "Epoch 10/50\n",
            "288/288 [==============================] - 8s 29ms/step - loss: 1.1024 - accuracy: 0.5783 - val_loss: 1.1267 - val_accuracy: 0.5745 - lr: 0.0010\n",
            "Epoch 11/50\n",
            "288/288 [==============================] - 8s 29ms/step - loss: 1.0752 - accuracy: 0.5904 - val_loss: 1.2539 - val_accuracy: 0.5397 - lr: 0.0010\n",
            "Epoch 12/50\n",
            "288/288 [==============================] - 8s 29ms/step - loss: 1.0549 - accuracy: 0.6029 - val_loss: 1.1812 - val_accuracy: 0.5793 - lr: 0.0010\n",
            "Epoch 13/50\n",
            "288/288 [==============================] - 8s 29ms/step - loss: 1.0258 - accuracy: 0.6117 - val_loss: 1.1523 - val_accuracy: 0.5826 - lr: 0.0010\n",
            "Epoch 14/50\n",
            "288/288 [==============================] - 9s 30ms/step - loss: 1.0074 - accuracy: 0.6196 - val_loss: 1.1795 - val_accuracy: 0.5751 - lr: 0.0010\n",
            "Epoch 15/50\n",
            "288/288 [==============================] - 8s 29ms/step - loss: 0.9861 - accuracy: 0.6269 - val_loss: 1.0976 - val_accuracy: 0.6016 - lr: 0.0010\n",
            "Epoch 16/50\n",
            "288/288 [==============================] - 8s 29ms/step - loss: 0.9690 - accuracy: 0.6342 - val_loss: 1.0806 - val_accuracy: 0.6021 - lr: 0.0010\n",
            "Epoch 17/50\n",
            "288/288 [==============================] - 9s 30ms/step - loss: 0.9492 - accuracy: 0.6448 - val_loss: 1.0849 - val_accuracy: 0.6063 - lr: 0.0010\n",
            "Epoch 18/50\n",
            "288/288 [==============================] - 8s 29ms/step - loss: 0.9325 - accuracy: 0.6471 - val_loss: 1.1364 - val_accuracy: 0.5943 - lr: 0.0010\n",
            "Epoch 19/50\n",
            "288/288 [==============================] - 8s 29ms/step - loss: 0.9295 - accuracy: 0.6519 - val_loss: 1.0702 - val_accuracy: 0.6127 - lr: 0.0010\n",
            "Epoch 20/50\n",
            "288/288 [==============================] - 8s 29ms/step - loss: 0.9005 - accuracy: 0.6575 - val_loss: 1.1547 - val_accuracy: 0.5971 - lr: 0.0010\n",
            "Epoch 21/50\n",
            "288/288 [==============================] - 8s 29ms/step - loss: 0.8882 - accuracy: 0.6664 - val_loss: 1.1219 - val_accuracy: 0.5935 - lr: 0.0010\n",
            "Epoch 22/50\n",
            "288/288 [==============================] - 8s 29ms/step - loss: 0.8729 - accuracy: 0.6747 - val_loss: 1.0942 - val_accuracy: 0.6163 - lr: 0.0010\n",
            "Epoch 23/50\n",
            "288/288 [==============================] - 8s 29ms/step - loss: 0.8566 - accuracy: 0.6803 - val_loss: 1.1426 - val_accuracy: 0.6110 - lr: 0.0010\n",
            "Epoch 24/50\n",
            "288/288 [==============================] - 8s 29ms/step - loss: 0.8520 - accuracy: 0.6840 - val_loss: 1.0956 - val_accuracy: 0.6255 - lr: 0.0010\n",
            "Epoch 25/50\n",
            "288/288 [==============================] - 8s 29ms/step - loss: 0.8378 - accuracy: 0.6879 - val_loss: 1.0839 - val_accuracy: 0.6202 - lr: 0.0010\n",
            "Epoch 26/50\n",
            "288/288 [==============================] - 8s 29ms/step - loss: 0.8207 - accuracy: 0.6937 - val_loss: 1.1001 - val_accuracy: 0.6308 - lr: 0.0010\n",
            "Epoch 27/50\n",
            "288/288 [==============================] - 8s 29ms/step - loss: 0.8049 - accuracy: 0.7007 - val_loss: 1.1388 - val_accuracy: 0.6160 - lr: 0.0010\n",
            "Epoch 28/50\n",
            "288/288 [==============================] - 8s 29ms/step - loss: 0.8002 - accuracy: 0.7024 - val_loss: 1.0756 - val_accuracy: 0.6422 - lr: 0.0010\n",
            "Epoch 29/50\n",
            "288/288 [==============================] - 8s 29ms/step - loss: 0.7933 - accuracy: 0.7062 - val_loss: 1.1127 - val_accuracy: 0.6199 - lr: 0.0010\n",
            "Epoch 30/50\n",
            "288/288 [==============================] - 8s 29ms/step - loss: 0.7714 - accuracy: 0.7144 - val_loss: 1.0430 - val_accuracy: 0.6400 - lr: 0.0010\n",
            "Epoch 31/50\n",
            "288/288 [==============================] - 8s 29ms/step - loss: 0.7605 - accuracy: 0.7176 - val_loss: 1.0979 - val_accuracy: 0.6392 - lr: 0.0010\n",
            "Epoch 32/50\n",
            "288/288 [==============================] - 8s 29ms/step - loss: 0.6932 - accuracy: 0.7422 - val_loss: 1.0813 - val_accuracy: 0.6486 - lr: 2.0000e-04\n",
            "Epoch 33/50\n",
            "288/288 [==============================] - 8s 29ms/step - loss: 0.6672 - accuracy: 0.7505 - val_loss: 1.1074 - val_accuracy: 0.6434 - lr: 2.0000e-04\n",
            "Epoch 34/50\n",
            "288/288 [==============================] - 8s 29ms/step - loss: 0.6487 - accuracy: 0.7601 - val_loss: 1.1050 - val_accuracy: 0.6523 - lr: 2.0000e-04\n",
            "Epoch 35/50\n",
            "288/288 [==============================] - 8s 29ms/step - loss: 0.6466 - accuracy: 0.7602 - val_loss: 1.1181 - val_accuracy: 0.6470 - lr: 2.0000e-04\n",
            "Epoch 36/50\n",
            "288/288 [==============================] - 8s 29ms/step - loss: 0.6326 - accuracy: 0.7673 - val_loss: 1.1045 - val_accuracy: 0.6453 - lr: 2.0000e-04\n",
            "Epoch 37/50\n",
            "288/288 [==============================] - 8s 29ms/step - loss: 0.6289 - accuracy: 0.7685 - val_loss: 1.1098 - val_accuracy: 0.6498 - lr: 2.0000e-04\n",
            "Epoch 38/50\n",
            "288/288 [==============================] - 8s 29ms/step - loss: 0.6106 - accuracy: 0.7761 - val_loss: 1.1120 - val_accuracy: 0.6473 - lr: 4.0000e-05\n",
            "Epoch 39/50\n",
            "288/288 [==============================] - 8s 29ms/step - loss: 0.6102 - accuracy: 0.7750 - val_loss: 1.1106 - val_accuracy: 0.6459 - lr: 4.0000e-05\n",
            "Epoch 40/50\n",
            "288/288 [==============================] - 8s 29ms/step - loss: 0.6000 - accuracy: 0.7785 - val_loss: 1.1167 - val_accuracy: 0.6481 - lr: 4.0000e-05\n",
            "Epoch 41/50\n",
            "288/288 [==============================] - 9s 30ms/step - loss: 0.5967 - accuracy: 0.7813 - val_loss: 1.1147 - val_accuracy: 0.6481 - lr: 8.0000e-06\n",
            "Epoch 42/50\n",
            "288/288 [==============================] - 8s 29ms/step - loss: 0.5973 - accuracy: 0.7803 - val_loss: 1.1164 - val_accuracy: 0.6492 - lr: 8.0000e-06\n",
            "Epoch 43/50\n",
            "288/288 [==============================] - 9s 30ms/step - loss: 0.5929 - accuracy: 0.7818 - val_loss: 1.1182 - val_accuracy: 0.6467 - lr: 8.0000e-06\n",
            "Epoch 44/50\n",
            "288/288 [==============================] - 8s 29ms/step - loss: 0.5942 - accuracy: 0.7806 - val_loss: 1.1178 - val_accuracy: 0.6473 - lr: 1.6000e-06\n",
            "Epoch 45/50\n",
            "288/288 [==============================] - 8s 29ms/step - loss: 0.5986 - accuracy: 0.7807 - val_loss: 1.1184 - val_accuracy: 0.6478 - lr: 1.6000e-06\n",
            "Epoch 46/50\n",
            "288/288 [==============================] - 8s 29ms/step - loss: 0.5904 - accuracy: 0.7811 - val_loss: 1.1186 - val_accuracy: 0.6478 - lr: 1.6000e-06\n",
            "Epoch 47/50\n",
            "288/288 [==============================] - 8s 29ms/step - loss: 0.5972 - accuracy: 0.7798 - val_loss: 1.1199 - val_accuracy: 0.6478 - lr: 1.0000e-06\n",
            "Epoch 48/50\n",
            "288/288 [==============================] - 8s 29ms/step - loss: 0.5927 - accuracy: 0.7805 - val_loss: 1.1188 - val_accuracy: 0.6484 - lr: 1.0000e-06\n",
            "Epoch 49/50\n",
            "288/288 [==============================] - 8s 29ms/step - loss: 0.5939 - accuracy: 0.7826 - val_loss: 1.1191 - val_accuracy: 0.6478 - lr: 1.0000e-06\n",
            "Epoch 50/50\n",
            "288/288 [==============================] - 8s 29ms/step - loss: 0.6002 - accuracy: 0.7776 - val_loss: 1.1203 - val_accuracy: 0.6481 - lr: 1.0000e-06\n"
          ]
        }
      ],
      "source": [
        "history = model.fit(X_train, Y_train, validation_data=[X_val, Y_val], epochs=50, batch_size = 100, callbacks=[lr_anneal])"
      ]
    },
    {
      "cell_type": "code",
      "execution_count": null,
      "metadata": {
        "colab": {
          "base_uri": "https://localhost:8080/"
        },
        "id": "kfx7c1vbPb2c",
        "outputId": "8bd189fe-1da8-4ee7-d739-adfbea6db5cd"
      },
      "outputs": [
        {
          "output_type": "stream",
          "name": "stdout",
          "text": [
            "36/36 [==============================] - 0s 12ms/step - loss: 1.0750 - accuracy: 0.6620\n",
            "Test score: 1.0749741792678833\n",
            "Test accuracy: 0.6620228290557861\n"
          ]
        }
      ],
      "source": [
        "score, acc = model.evaluate(X_test, Y_test, batch_size=100)\n",
        "print('Test score:', score)\n",
        "print(\"Test accuracy:\", acc)"
      ]
    },
    {
      "cell_type": "code",
      "source": [
        "plt.plot(history.history['accuracy'])\n",
        "plt.plot(history.history['val_accuracy'])\n",
        "plt.title('model accuracy')\n",
        "plt.ylabel('accuracy')\n",
        "plt.xlabel('epoch')\n",
        "plt.legend(['train', 'val'], loc='upper left')\n",
        "plt.show()"
      ],
      "metadata": {
        "colab": {
          "base_uri": "https://localhost:8080/",
          "height": 295
        },
        "id": "CiSAHUjiNLH7",
        "outputId": "a6bbddc1-087f-4afb-82c2-2e2df30a4a73"
      },
      "execution_count": null,
      "outputs": [
        {
          "output_type": "display_data",
          "data": {
            "text/plain": [
              "<Figure size 432x288 with 1 Axes>"
            ],
            "image/png": "[encoded data removed]"
          },
          "metadata": {
            "needs_background": "light"
          }
        }
      ]
    },
    {
      "cell_type": "code",
      "execution_count": null,
      "metadata": {
        "id": "TwuIg6Kr4mKh"
      },
      "outputs": [],
      "source": [
        "model.save('CNN.h5')"
      ]
    },
    {
      "cell_type": "code",
      "execution_count": null,
      "metadata": {
        "colab": {
          "base_uri": "https://localhost:8080/"
        },
        "id": "Q7J-Cqg95CFL",
        "outputId": "2b69d92e-2d84-40f3-c1fc-5bad5d3a5b66"
      },
      "outputs": [
        {
          "name": "stdout",
          "output_type": "stream",
          "text": [
            "Saved model to disk\n"
          ]
        }
      ],
      "source": [
        "model_json = model.to_json()\n",
        "with open(\"CNN.json\", \"w\") as json_file:\n",
        "    json_file.write(model_json)\n",
        "model.save_weights(\"weights.h5\")\n",
        "print(\"Saved model to disk\")"
      ]
    },
    {
      "cell_type": "code",
      "execution_count": null,
      "metadata": {
        "id": "NYJE-APu6ivP"
      },
      "outputs": [],
      "source": [
        ""
      ]
    }
  ],
  "metadata": {
    "accelerator": "GPU",
    "colab": {
      "name": "Emotion.ipynb",
      "provenance": [],
      "collapsed_sections": []
    },
    "kernelspec": {
      "display_name": "Python 3",
      "language": "python",
      "name": "python3"
    },
    "language_info": {
      "codemirror_mode": {
        "name": "ipython",
        "version": 3
      },
      "file_extension": ".py",
      "mimetype": "text/x-python",
      "name": "python",
      "nbconvert_exporter": "python",
      "pygments_lexer": "ipython3",
      "version": "3.8.5"
    }
  },
  "nbformat": 4,
  "nbformat_minor": 0
}