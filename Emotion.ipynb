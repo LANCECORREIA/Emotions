{
  "cells": [
    {
      "cell_type": "code",
      "source": [
        "from google.colab import drive\n",
        "drive.mount('/content/drive')"
      ],
      "metadata": {
        "colab": {
          "base_uri": "https://localhost:8080/"
        },
        "id": "56Ek2eRs1mFR",
        "outputId": "cd09b9ed-1b52-49e3-ad4a-f5dccd3f55c2"
      },
      "execution_count": null,
      "outputs": [
        {
          "output_type": "stream",
          "name": "stdout",
          "text": [
            "Mounted at /content/drive\n"
          ]
        }
      ]
    },
    {
      "cell_type": "code",
      "execution_count": null,
      "metadata": {
        "id": "O68gInrjPb2X"
      },
      "outputs": [],
      "source": [
        "import numpy as np\n",
        "import pandas as pd\n",
        "import pandas_profiling as pp\n",
        "import matplotlib.pyplot as plt\n",
        "import seaborn as sns\n",
        "\n",
        "from sklearn.model_selection import train_test_split\n",
        "from sklearn.metrics import confusion_matrix\n",
        "import itertools\n",
        "\n",
        "np.random.seed(2)\n",
        "\n",
        "import keras\n",
        "from keras.preprocessing.image import ImageDataGenerator\n",
        "from keras.callbacks import ReduceLROnPlateau\n",
        "from keras.utils.np_utils import to_categorical\n",
        "from keras.models import Sequential\n",
        "import tensorflow.keras.optimizers as opt\n",
        "from keras.layers.convolutional import Conv2D, MaxPooling2D, SeparableConv2D\n",
        "from keras.layers.core import Dropout, Flatten, Dense\n",
        "from tensorflow.keras.layers import BatchNormalization\n",
        "from keras.layers import Input"
      ]
    },
    {
      "cell_type": "code",
      "execution_count": null,
      "metadata": {
        "colab": {
          "base_uri": "https://localhost:8080/",
          "height": 206
        },
        "id": "V2hhTa1iPb2Y",
        "outputId": "5556231e-a181-4b8c-9aa3-49596776a996"
      },
      "outputs": [
        {
          "output_type": "execute_result",
          "data": {
            "text/plain": [
              "   emotion                                             pixels     Usage\n",
              "0        0  70 80 82 72 58 58 60 63 54 58 60 48 89 115 121...  Training\n",
              "1        0  151 150 147 155 148 133 111 140 170 174 182 15...  Training\n",
              "2        2  231 212 156 164 174 138 161 173 182 200 106 38...  Training\n",
              "3        4  24 32 36 30 32 23 19 20 30 41 21 22 32 34 21 1...  Training\n",
              "4        6  4 0 0 0 0 0 0 0 0 0 0 0 3 15 23 28 48 50 58 84...  Training"
            ],
            "text/html": [
              "\n",
              "  <div id=\"df-b3515e28-cb5d-482e-b592-7d5a4a456181\">\n",
              "    <div class=\"colab-df-container\">\n",
              "      <div>\n",
              "<style scoped>\n",
              "    .dataframe tbody tr th:only-of-type {\n",
              "        vertical-align: middle;\n",
              "    }\n",
              "\n",
              "    .dataframe tbody tr th {\n",
              "        vertical-align: top;\n",
              "    }\n",
              "\n",
              "    .dataframe thead th {\n",
              "        text-align: right;\n",
              "    }\n",
              "</style>\n",
              "<table border=\"1\" class=\"dataframe\">\n",
              "  <thead>\n",
              "    <tr style=\"text-align: right;\">\n",
              "      <th></th>\n",
              "      <th>emotion</th>\n",
              "      <th>pixels</th>\n",
              "      <th>Usage</th>\n",
              "    </tr>\n",
              "  </thead>\n",
              "  <tbody>\n",
              "    <tr>\n",
              "      <th>0</th>\n",
              "      <td>0</td>\n",
              "      <td>70 80 82 72 58 58 60 63 54 58 60 48 89 115 121...</td>\n",
              "      <td>Training</td>\n",
              "    </tr>\n",
              "    <tr>\n",
              "      <th>1</th>\n",
              "      <td>0</td>\n",
              "      <td>151 150 147 155 148 133 111 140 170 174 182 15...</td>\n",
              "      <td>Training</td>\n",
              "    </tr>\n",
              "    <tr>\n",
              "      <th>2</th>\n",
              "      <td>2</td>\n",
              "      <td>231 212 156 164 174 138 161 173 182 200 106 38...</td>\n",
              "      <td>Training</td>\n",
              "    </tr>\n",
              "    <tr>\n",
              "      <th>3</th>\n",
              "      <td>4</td>\n",
              "      <td>24 32 36 30 32 23 19 20 30 41 21 22 32 34 21 1...</td>\n",
              "      <td>Training</td>\n",
              "    </tr>\n",
              "    <tr>\n",
              "      <th>4</th>\n",
              "      <td>6</td>\n",
              "      <td>4 0 0 0 0 0 0 0 0 0 0 0 3 15 23 28 48 50 58 84...</td>\n",
              "      <td>Training</td>\n",
              "    </tr>\n",
              "  </tbody>\n",
              "</table>\n",
              "</div>\n",
              "      <button class=\"colab-df-convert\" onclick=\"convertToInteractive('df-b3515e28-cb5d-482e-b592-7d5a4a456181')\"\n",
              "              title=\"Convert this dataframe to an interactive table.\"\n",
              "              style=\"display:none;\">\n",
              "        \n",
              "  <svg xmlns=\"http://www.w3.org/2000/svg\" height=\"24px\"viewBox=\"0 0 24 24\"\n",
              "       width=\"24px\">\n",
              "    <path d=\"M0 0h24v24H0V0z\" fill=\"none\"/>\n",
              "    <path d=\"M18.56 5.44l.94 2.06.94-2.06 2.06-.94-2.06-.94-.94-2.06-.94 2.06-2.06.94zm-11 1L8.5 8.5l.94-2.06 2.06-.94-2.06-.94L8.5 2.5l-.94 2.06-2.06.94zm10 10l.94 2.06.94-2.06 2.06-.94-2.06-.94-.94-2.06-.94 2.06-2.06.94z\"/><path d=\"M17.41 7.96l-1.37-1.37c-.4-.4-.92-.59-1.43-.59-.52 0-1.04.2-1.43.59L10.3 9.45l-7.72 7.72c-.78.78-.78 2.05 0 2.83L4 21.41c.39.39.9.59 1.41.59.51 0 1.02-.2 1.41-.59l7.78-7.78 2.81-2.81c.8-.78.8-2.07 0-2.86zM5.41 20L4 18.59l7.72-7.72 1.47 1.35L5.41 20z\"/>\n",
              "  </svg>\n",
              "      </button>\n",
              "      \n",
              "  <style>\n",
              "    .colab-df-container {\n",
              "      display:flex;\n",
              "      flex-wrap:wrap;\n",
              "      gap: 12px;\n",
              "    }\n",
              "\n",
              "    .colab-df-convert {\n",
              "      background-color: #E8F0FE;\n",
              "      border: none;\n",
              "      border-radius: 50%;\n",
              "      cursor: pointer;\n",
              "      display: none;\n",
              "      fill: #1967D2;\n",
              "      height: 32px;\n",
              "      padding: 0 0 0 0;\n",
              "      width: 32px;\n",
              "    }\n",
              "\n",
              "    .colab-df-convert:hover {\n",
              "      background-color: #E2EBFA;\n",
              "      box-shadow: 0px 1px 2px rgba(60, 64, 67, 0.3), 0px 1px 3px 1px rgba(60, 64, 67, 0.15);\n",
              "      fill: #174EA6;\n",
              "    }\n",
              "\n",
              "    [theme=dark] .colab-df-convert {\n",
              "      background-color: #3B4455;\n",
              "      fill: #D2E3FC;\n",
              "    }\n",
              "\n",
              "    [theme=dark] .colab-df-convert:hover {\n",
              "      background-color: #434B5C;\n",
              "      box-shadow: 0px 1px 3px 1px rgba(0, 0, 0, 0.15);\n",
              "      filter: drop-shadow(0px 1px 2px rgba(0, 0, 0, 0.3));\n",
              "      fill: #FFFFFF;\n",
              "    }\n",
              "  </style>\n",
              "\n",
              "      <script>\n",
              "        const buttonEl =\n",
              "          document.querySelector('#df-b3515e28-cb5d-482e-b592-7d5a4a456181 button.colab-df-convert');\n",
              "        buttonEl.style.display =\n",
              "          google.colab.kernel.accessAllowed ? 'block' : 'none';\n",
              "\n",
              "        async function convertToInteractive(key) {\n",
              "          const element = document.querySelector('#df-b3515e28-cb5d-482e-b592-7d5a4a456181');\n",
              "          const dataTable =\n",
              "            await google.colab.kernel.invokeFunction('convertToInteractive',\n",
              "                                                     [key], {});\n",
              "          if (!dataTable) return;\n",
              "\n",
              "          const docLinkHtml = 'Like what you see? Visit the ' +\n",
              "            '<a target=\"_blank\" href=https://colab.research.google.com/notebooks/data_table.ipynb>data table notebook</a>'\n",
              "            + ' to learn more about interactive tables.';\n",
              "          element.innerHTML = '';\n",
              "          dataTable['output_type'] = 'display_data';\n",
              "          await google.colab.output.renderOutput(dataTable, element);\n",
              "          const docLink = document.createElement('div');\n",
              "          docLink.innerHTML = docLinkHtml;\n",
              "          element.appendChild(docLink);\n",
              "        }\n",
              "      </script>\n",
              "    </div>\n",
              "  </div>\n",
              "  "
            ]
          },
          "metadata": {},
          "execution_count": 3
        }
      ],
      "source": [
        "data = pd.read_csv(\"drive/MyDrive/fer2013.csv\")\n",
        "data.head()"
      ]
    },
    {
      "cell_type": "code",
      "source": [
        "pp.ProfileReport(data)"
      ],
      "metadata": {
        "colab": {
          "base_uri": "https://localhost:8080/"
        },
        "id": "1QlbhoPGAQoO",
        "outputId": "42c52653-bfae-4131-a50e-5af1901ddeff"
      },
      "execution_count": null,
      "outputs": [
        {
          "output_type": "error",
          "ename": "TypeError",
          "evalue": "ignored",
          "traceback": [
            "\u001b[0;31m---------------------------------------------------------------------------\u001b[0m",
            "\u001b[0;31mTypeError\u001b[0m                                 Traceback (most recent call last)",
            "\u001b[0;32m<ipython-input-7-445f3079a14c>\u001b[0m in \u001b[0;36m<module>\u001b[0;34m()\u001b[0m\n\u001b[0;32m----> 1\u001b[0;31m \u001b[0mpp\u001b[0m\u001b[0;34m.\u001b[0m\u001b[0mProfileReport\u001b[0m\u001b[0;34m(\u001b[0m\u001b[0mdata\u001b[0m\u001b[0;34m)\u001b[0m\u001b[0;34m\u001b[0m\u001b[0;34m\u001b[0m\u001b[0m\n\u001b[0m",
            "\u001b[0;32m/usr/local/lib/python3.7/dist-packages/pandas_profiling/__init__.py\u001b[0m in \u001b[0;36m__init__\u001b[0;34m(self, df, **kwargs)\u001b[0m\n\u001b[1;32m     64\u001b[0m         \u001b[0msample\u001b[0m \u001b[0;34m=\u001b[0m \u001b[0mkwargs\u001b[0m\u001b[0;34m.\u001b[0m\u001b[0mget\u001b[0m\u001b[0;34m(\u001b[0m\u001b[0;34m'sample'\u001b[0m\u001b[0;34m,\u001b[0m \u001b[0mdf\u001b[0m\u001b[0;34m.\u001b[0m\u001b[0mhead\u001b[0m\u001b[0;34m(\u001b[0m\u001b[0;34m)\u001b[0m\u001b[0;34m)\u001b[0m\u001b[0;34m\u001b[0m\u001b[0;34m\u001b[0m\u001b[0m\n\u001b[1;32m     65\u001b[0m \u001b[0;34m\u001b[0m\u001b[0m\n\u001b[0;32m---> 66\u001b[0;31m         \u001b[0mdescription_set\u001b[0m \u001b[0;34m=\u001b[0m \u001b[0mdescribe\u001b[0m\u001b[0;34m(\u001b[0m\u001b[0mdf\u001b[0m\u001b[0;34m,\u001b[0m \u001b[0;34m**\u001b[0m\u001b[0mkwargs\u001b[0m\u001b[0;34m)\u001b[0m\u001b[0;34m\u001b[0m\u001b[0;34m\u001b[0m\u001b[0m\n\u001b[0m\u001b[1;32m     67\u001b[0m \u001b[0;34m\u001b[0m\u001b[0m\n\u001b[1;32m     68\u001b[0m         self.html = to_html(sample,\n",
            "\u001b[0;32m/usr/local/lib/python3.7/dist-packages/pandas_profiling/describe.py\u001b[0m in \u001b[0;36mdescribe\u001b[0;34m(df, bins, check_correlation, correlation_threshold, correlation_overrides, check_recoded, pool_size, **kwargs)\u001b[0m\n\u001b[1;32m    390\u001b[0m             \u001b[0;32mif\u001b[0m \u001b[0mname\u001b[0m \u001b[0;32mnot\u001b[0m \u001b[0;32min\u001b[0m \u001b[0mnames\u001b[0m\u001b[0;34m:\u001b[0m\u001b[0;34m\u001b[0m\u001b[0;34m\u001b[0m\u001b[0m\n\u001b[1;32m    391\u001b[0m                 \u001b[0mnames\u001b[0m\u001b[0;34m.\u001b[0m\u001b[0mappend\u001b[0m\u001b[0;34m(\u001b[0m\u001b[0mname\u001b[0m\u001b[0;34m)\u001b[0m\u001b[0;34m\u001b[0m\u001b[0;34m\u001b[0m\u001b[0m\n\u001b[0;32m--> 392\u001b[0;31m     \u001b[0mvariable_stats\u001b[0m \u001b[0;34m=\u001b[0m \u001b[0mpd\u001b[0m\u001b[0;34m.\u001b[0m\u001b[0mconcat\u001b[0m\u001b[0;34m(\u001b[0m\u001b[0mldesc\u001b[0m\u001b[0;34m,\u001b[0m \u001b[0mjoin_axes\u001b[0m\u001b[0;34m=\u001b[0m\u001b[0mpd\u001b[0m\u001b[0;34m.\u001b[0m\u001b[0mIndex\u001b[0m\u001b[0;34m(\u001b[0m\u001b[0;34m[\u001b[0m\u001b[0mnames\u001b[0m\u001b[0;34m]\u001b[0m\u001b[0;34m)\u001b[0m\u001b[0;34m,\u001b[0m \u001b[0maxis\u001b[0m\u001b[0;34m=\u001b[0m\u001b[0;36m1\u001b[0m\u001b[0;34m)\u001b[0m\u001b[0;34m\u001b[0m\u001b[0;34m\u001b[0m\u001b[0m\n\u001b[0m\u001b[1;32m    393\u001b[0m     \u001b[0mvariable_stats\u001b[0m\u001b[0;34m.\u001b[0m\u001b[0mcolumns\u001b[0m\u001b[0;34m.\u001b[0m\u001b[0mnames\u001b[0m \u001b[0;34m=\u001b[0m \u001b[0mdf\u001b[0m\u001b[0;34m.\u001b[0m\u001b[0mcolumns\u001b[0m\u001b[0;34m.\u001b[0m\u001b[0mnames\u001b[0m\u001b[0;34m\u001b[0m\u001b[0;34m\u001b[0m\u001b[0m\n\u001b[1;32m    394\u001b[0m \u001b[0;34m\u001b[0m\u001b[0m\n",
            "\u001b[0;32m/usr/local/lib/python3.7/dist-packages/pandas/util/_decorators.py\u001b[0m in \u001b[0;36mwrapper\u001b[0;34m(*args, **kwargs)\u001b[0m\n\u001b[1;32m    309\u001b[0m                     \u001b[0mstacklevel\u001b[0m\u001b[0;34m=\u001b[0m\u001b[0mstacklevel\u001b[0m\u001b[0;34m,\u001b[0m\u001b[0;34m\u001b[0m\u001b[0;34m\u001b[0m\u001b[0m\n\u001b[1;32m    310\u001b[0m                 )\n\u001b[0;32m--> 311\u001b[0;31m             \u001b[0;32mreturn\u001b[0m \u001b[0mfunc\u001b[0m\u001b[0;34m(\u001b[0m\u001b[0;34m*\u001b[0m\u001b[0margs\u001b[0m\u001b[0;34m,\u001b[0m \u001b[0;34m**\u001b[0m\u001b[0mkwargs\u001b[0m\u001b[0;34m)\u001b[0m\u001b[0;34m\u001b[0m\u001b[0;34m\u001b[0m\u001b[0m\n\u001b[0m\u001b[1;32m    312\u001b[0m \u001b[0;34m\u001b[0m\u001b[0m\n\u001b[1;32m    313\u001b[0m         \u001b[0;32mreturn\u001b[0m \u001b[0mwrapper\u001b[0m\u001b[0;34m\u001b[0m\u001b[0;34m\u001b[0m\u001b[0m\n",
            "\u001b[0;31mTypeError\u001b[0m: concat() got an unexpected keyword argument 'join_axes'"
          ]
        }
      ]
    },
    {
      "cell_type": "code",
      "execution_count": null,
      "metadata": {
        "colab": {
          "base_uri": "https://localhost:8080/"
        },
        "id": "xMF9gUMbPb2Y",
        "outputId": "90f5b16b-eb48-4f8a-d7c3-ae4ec572a3d9"
      },
      "outputs": [
        {
          "output_type": "stream",
          "name": "stdout",
          "text": [
            "       emotion                                             pixels        Usage\n",
            "32298        0  170 118 101 88 88 75 78 82 66 74 68 59 63 64 6...  PrivateTest\n",
            "32299        5  7 5 8 6 7 3 2 6 5 4 4 5 7 5 5 5 6 7 7 7 10 10 ...  PrivateTest\n",
            "32300        6  232 240 241 239 237 235 246 117 24 24 22 13 12...  PrivateTest\n",
            "32301        4  200 197 149 139 156 89 111 58 62 95 113 117 11...  PrivateTest\n",
            "32302        2  40 28 33 56 45 33 31 78 152 194 200 186 196 20...  PrivateTest\n",
            "...        ...                                                ...          ...\n",
            "35882        6  50 36 17 22 23 29 33 39 34 37 37 37 39 43 48 5...  PrivateTest\n",
            "35883        3  178 174 172 173 181 188 191 194 196 199 200 20...  PrivateTest\n",
            "35884        0  17 17 16 23 28 22 19 17 25 26 20 24 31 19 27 9...  PrivateTest\n",
            "35885        3  30 28 28 29 31 30 42 68 79 81 77 67 67 71 63 6...  PrivateTest\n",
            "35886        2  19 13 14 12 13 16 21 33 50 57 71 84 97 108 122...  PrivateTest\n",
            "\n",
            "[3589 rows x 3 columns]\n"
          ]
        }
      ],
      "source": [
        "groups = [g for _, g in data.groupby('Usage')]\n",
        "train = groups[2]\n",
        "val = groups[1]\n",
        "test = groups[0]\n",
        "print(groups[0])"
      ]
    },
    {
      "cell_type": "code",
      "execution_count": null,
      "metadata": {
        "id": "E9idJobVPb2Z"
      },
      "outputs": [],
      "source": [
        "train = train.drop(labels=['Usage'], axis=1)\n",
        "val = val.drop(labels=['Usage'], axis=1)\n",
        "test = test.drop(labels=['Usage'], axis=1)\n",
        "\n",
        "Y_train = train[\"emotion\"]\n",
        "Y_val = val[\"emotion\"]\n",
        "Y_test = test[\"emotion\"]\n",
        "#'Angry', 'Disgust', 'Fear', 'Happy', 'Sad', 'Surprise', 'Neutral'#\n",
        "\n",
        "X_train = train[\"pixels\"]\n",
        "X_val = val[\"pixels\"]\n",
        "X_test = test[\"pixels\"]"
      ]
    },
    {
      "cell_type": "code",
      "execution_count": null,
      "metadata": {
        "id": "Oc6cW3jiPb2Z"
      },
      "outputs": [],
      "source": [
        "def preprocess(X):\n",
        "    X = np.array([np.fromstring(image, np.uint8, sep=' ') for image in X])\n",
        "    X = X/255.0\n",
        "    X = X.reshape(-1, 48, 48, 1)\n",
        "    return X"
      ]
    },
    {
      "cell_type": "code",
      "execution_count": null,
      "metadata": {
        "id": "EEwJs_BLPb2Z"
      },
      "outputs": [],
      "source": [
        "X_train = preprocess(X_train)\n",
        "X_val = preprocess(X_val)\n",
        "X_test = preprocess(X_test)"
      ]
    },
    {
      "cell_type": "code",
      "execution_count": null,
      "metadata": {
        "colab": {
          "base_uri": "https://localhost:8080/",
          "height": 284
        },
        "id": "eeI2-e4JPb2a",
        "outputId": "2efdc7bc-a483-458a-e1e0-72b5a0ae2f14"
      },
      "outputs": [
        {
          "output_type": "execute_result",
          "data": {
            "text/plain": [
              "<matplotlib.image.AxesImage at 0x7fa73acc6290>"
            ]
          },
          "metadata": {},
          "execution_count": 10
        },
        {
          "output_type": "display_data",
          "data": {
            "text/plain": [
              "<Figure size 432x288 with 1 Axes>"
            ],
            "image/png": "[encoded data removed]"
          },
          "metadata": {
            "needs_background": "light"
          }
        }
      ],
      "source": [
        "plt.imshow(X_train[0][:,:,0],cmap='gray')"
      ]
    },
    {
      "cell_type": "code",
      "execution_count": null,
      "metadata": {
        "colab": {
          "base_uri": "https://localhost:8080/",
          "height": 318
        },
        "id": "tfsQMUdOPb2a",
        "outputId": "14a5bdf9-5c04-4949-84d6-6d030a5f7afc"
      },
      "outputs": [
        {
          "output_type": "execute_result",
          "data": {
            "text/plain": [
              "Text(0.5, 1.0, 'Counts per emotion in testing set')"
            ]
          },
          "metadata": {},
          "execution_count": 11
        },
        {
          "output_type": "display_data",
          "data": {
            "text/plain": [
              "<Figure size 2160x504 with 3 Axes>"
            ],
            "image/png": "[encoded data removed]"
          },
          "metadata": {
            "needs_background": "light"
          }
        }
      ],
      "source": [
        "plt.figure(figsize=(30, 7))\n",
        "\n",
        "plt.subplot(1,3,1)\n",
        "ax = sns.countplot(x=Y_train)\n",
        "ax.set(ylabel=\"count\", xlabel=\"emotion\")\n",
        "plt.title(\"Counts per emotion in training set\")\n",
        "\n",
        "plt.subplot(1,3,2)\n",
        "ax = sns.countplot(x=Y_val)\n",
        "ax.set(ylabel=\"count\", xlabel=\"emotion\")\n",
        "plt.title(\"Counts per emotion in validation set\")\n",
        "\n",
        "plt.subplot(1,3,3)\n",
        "ax = sns.countplot(x=Y_test)\n",
        "ax.set(ylabel=\"count\", xlabel=\"emotion\")\n",
        "plt.title(\"Counts per emotion in testing set\")"
      ]
    },
    {
      "cell_type": "code",
      "execution_count": null,
      "metadata": {
        "colab": {
          "base_uri": "https://localhost:8080/",
          "height": 235
        },
        "id": "iZPYVH-RPb2a",
        "outputId": "d9ff4920-2d6e-444d-8e87-e4aac91b374f"
      },
      "outputs": [
        {
          "output_type": "error",
          "ename": "AttributeError",
          "evalue": "ignored",
          "traceback": [
            "\u001b[0;31m---------------------------------------------------------------------------\u001b[0m",
            "\u001b[0;31mAttributeError\u001b[0m                            Traceback (most recent call last)",
            "\u001b[0;32m<ipython-input-13-2b1e213393f2>\u001b[0m in \u001b[0;36m<module>\u001b[0;34m()\u001b[0m\n\u001b[0;32m----> 1\u001b[0;31m \u001b[0mprint\u001b[0m\u001b[0;34m(\u001b[0m\u001b[0;34m\"Is any label null in training set:\"\u001b[0m\u001b[0;34m,\u001b[0m \u001b[0mY_train\u001b[0m\u001b[0;34m.\u001b[0m\u001b[0misnull\u001b[0m\u001b[0;34m(\u001b[0m\u001b[0;34m)\u001b[0m\u001b[0;34m.\u001b[0m\u001b[0many\u001b[0m\u001b[0;34m(\u001b[0m\u001b[0;34m)\u001b[0m\u001b[0;34m)\u001b[0m\u001b[0;34m\u001b[0m\u001b[0;34m\u001b[0m\u001b[0m\n\u001b[0m\u001b[1;32m      2\u001b[0m \u001b[0mprint\u001b[0m\u001b[0;34m(\u001b[0m\u001b[0;34m\"Is any label null in validation set:\"\u001b[0m\u001b[0;34m,\u001b[0m \u001b[0mY_val\u001b[0m\u001b[0;34m.\u001b[0m\u001b[0misnull\u001b[0m\u001b[0;34m(\u001b[0m\u001b[0;34m)\u001b[0m\u001b[0;34m.\u001b[0m\u001b[0many\u001b[0m\u001b[0;34m(\u001b[0m\u001b[0;34m)\u001b[0m\u001b[0;34m)\u001b[0m\u001b[0;34m\u001b[0m\u001b[0;34m\u001b[0m\u001b[0m\n\u001b[1;32m      3\u001b[0m \u001b[0mprint\u001b[0m\u001b[0;34m(\u001b[0m\u001b[0;34m\"Is any label null in testing set:\"\u001b[0m\u001b[0;34m,\u001b[0m \u001b[0mY_test\u001b[0m\u001b[0;34m.\u001b[0m\u001b[0misnull\u001b[0m\u001b[0;34m(\u001b[0m\u001b[0;34m)\u001b[0m\u001b[0;34m.\u001b[0m\u001b[0many\u001b[0m\u001b[0;34m(\u001b[0m\u001b[0;34m)\u001b[0m\u001b[0;34m)\u001b[0m\u001b[0;34m\u001b[0m\u001b[0;34m\u001b[0m\u001b[0m\n\u001b[1;32m      4\u001b[0m \u001b[0;34m\u001b[0m\u001b[0m\n\u001b[1;32m      5\u001b[0m \u001b[0;34m\u001b[0m\u001b[0m\n",
            "\u001b[0;31mAttributeError\u001b[0m: 'numpy.ndarray' object has no attribute 'isnull'"
          ]
        }
      ],
      "source": [
        "print(\"Is any label null in training set:\", Y_train.isnull().any())\n",
        "print(\"Is any label null in validation set:\", Y_val.isnull().any())\n",
        "print(\"Is any label null in testing set:\", Y_test.isnull().any())\n",
        "\n",
        "\n",
        "Y_train = to_categorical(Y_train, num_classes=7)\n",
        "Y_val = to_categorical(Y_val, num_classes=7)\n",
        "Y_test = to_categorical(Y_test, num_classes=7)"
      ]
    },
    {
      "cell_type": "code",
      "execution_count": null,
      "metadata": {
        "id": "VIRoP7Y_Pb2b"
      },
      "outputs": [],
      "source": [
        "model = Sequential()\n",
        "model.add(Conv2D(32, (3,3), padding=\"Same\", activation='relu', input_shape=(48,48,1)))\n",
        "model.add(BatchNormalization())\n",
        "model.add(Conv2D(32, (5,5), padding=\"Same\", activation='relu'))\n",
        "model.add(MaxPooling2D((2,2)))\n",
        "model.add(Dropout(0.5))\n",
        "model.add(Conv2D(64, (3,3), padding=\"Same\", activation='relu'))\n",
        "model.add(BatchNormalization())\n",
        "model.add(Conv2D(64, (5,5), padding=\"Same\", activation='relu'))\n",
        "model.add(MaxPooling2D((2,2))) \n",
        "model.add(Dropout(0.5))\n",
        "model.add(Conv2D(128, (3,3), padding=\"Same\", activation='relu'))\n",
        "model.add(BatchNormalization())\n",
        "model.add(Conv2D(128, (5,5), padding=\"Same\", activation='relu'))\n",
        "model.add(MaxPooling2D((2,2))) \n",
        "model.add(Dropout(0.5))\n",
        "model.add(Flatten())\n",
        "model.add(Dense(256, activation='relu'))\n",
        "model.add(Dense(7, activation='softmax'))"
      ]
    },
    {
      "cell_type": "code",
      "execution_count": null,
      "metadata": {
        "id": "AGfX3gAPPb2b"
      },
      "outputs": [],
      "source": [
        "optimizer = opt.Adam(learning_rate = 0.001)\n",
        "lr_anneal = ReduceLROnPlateau(monitor = 'val_accuracy', patience=3, factor=0.2, min_lr=1e-6)\n",
        "model.compile(optimizer=optimizer, loss='categorical_crossentropy', metrics=['accuracy'])"
      ]
    },
    {
      "cell_type": "code",
      "execution_count": null,
      "metadata": {
        "colab": {
          "base_uri": "https://localhost:8080/"
        },
        "id": "gI-CeKi0Pb2b",
        "outputId": "4afbca1d-4f96-4066-8764-e999498e22f8"
      },
      "outputs": [
        {
          "output_type": "stream",
          "name": "stdout",
          "text": [
            "Model: \"sequential\"\n",
            "_________________________________________________________________\n",
            " Layer (type)                Output Shape              Param #   \n",
            "=================================================================\n",
            " conv2d (Conv2D)             (None, 48, 48, 32)        320       \n",
            "                                                                 \n",
            " batch_normalization (BatchN  (None, 48, 48, 32)       128       \n",
            " ormalization)                                                   \n",
            "                                                                 \n",
            " conv2d_1 (Conv2D)           (None, 48, 48, 32)        25632     \n",
            "                                                                 \n",
            " max_pooling2d (MaxPooling2D  (None, 24, 24, 32)       0         \n",
            " )                                                               \n",
            "                                                                 \n",
            " dropout (Dropout)           (None, 24, 24, 32)        0         \n",
            "                                                                 \n",
            " conv2d_2 (Conv2D)           (None, 24, 24, 64)        18496     \n",
            "                                                                 \n",
            " batch_normalization_1 (Batc  (None, 24, 24, 64)       256       \n",
            " hNormalization)                                                 \n",
            "                                                                 \n",
            " conv2d_3 (Conv2D)           (None, 24, 24, 64)        102464    \n",
            "                                                                 \n",
            " max_pooling2d_1 (MaxPooling  (None, 12, 12, 64)       0         \n",
            " 2D)                                                             \n",
            "                                                                 \n",
            " dropout_1 (Dropout)         (None, 12, 12, 64)        0         \n",
            "                                                                 \n",
            " conv2d_4 (Conv2D)           (None, 12, 12, 128)       73856     \n",
            "                                                                 \n",
            " batch_normalization_2 (Batc  (None, 12, 12, 128)      512       \n",
            " hNormalization)                                                 \n",
            "                                                                 \n",
            " conv2d_5 (Conv2D)           (None, 12, 12, 128)       409728    \n",
            "                                                                 \n",
            " max_pooling2d_2 (MaxPooling  (None, 6, 6, 128)        0         \n",
            " 2D)                                                             \n",
            "                                                                 \n",
            " dropout_2 (Dropout)         (None, 6, 6, 128)         0         \n",
            "                                                                 \n",
            " flatten (Flatten)           (None, 4608)              0         \n",
            "                                                                 \n",
            " dense (Dense)               (None, 256)               1179904   \n",
            "                                                                 \n",
            " dense_1 (Dense)             (None, 7)                 1799      \n",
            "                                                                 \n",
            "=================================================================\n",
            "Total params: 1,813,095\n",
            "Trainable params: 1,812,647\n",
            "Non-trainable params: 448\n",
            "_________________________________________________________________\n"
          ]
        }
      ],
      "source": [
        "model.summary()"
      ]
    },
    {
      "cell_type": "code",
      "execution_count": null,
      "metadata": {
        "colab": {
          "base_uri": "https://localhost:8080/"
        },
        "id": "CcgKgtEfPb2b",
        "outputId": "5d2b3b85-b5b7-4f7d-86dd-92a3ff5885ec"
      },
      "outputs": [
        {
          "output_type": "stream",
          "name": "stdout",
          "text": [
            "Epoch 1/50\n",
            "288/288 [==============================] - 21s 34ms/step - loss: 2.0090 - accuracy: 0.2530 - val_loss: 1.8392 - val_accuracy: 0.2494 - lr: 0.0010\n",
            "Epoch 2/50\n",
            "288/288 [==============================] - 8s 29ms/step - loss: 1.6585 - accuracy: 0.3449 - val_loss: 1.7162 - val_accuracy: 0.3321 - lr: 0.0010\n",
            "Epoch 3/50\n",
            "288/288 [==============================] - 8s 29ms/step - loss: 1.5008 - accuracy: 0.4165 - val_loss: 1.6002 - val_accuracy: 0.3873 - lr: 0.0010\n",
            "Epoch 4/50\n",
            "288/288 [==============================] - 8s 29ms/step - loss: 1.3777 - accuracy: 0.4665 - val_loss: 1.5025 - val_accuracy: 0.4310 - lr: 0.0010\n",
            "Epoch 5/50\n",
            "288/288 [==============================] - 8s 29ms/step - loss: 1.2993 - accuracy: 0.5002 - val_loss: 1.2794 - val_accuracy: 0.5007 - lr: 0.0010\n",
            "Epoch 6/50\n",
            "288/288 [==============================] - 9s 30ms/step - loss: 1.2412 - accuracy: 0.5239 - val_loss: 1.2840 - val_accuracy: 0.5052 - lr: 0.0010\n",
            "Epoch 7/50\n",
            "288/288 [==============================] - 8s 29ms/step - loss: 1.1967 - accuracy: 0.5413 - val_loss: 1.2573 - val_accuracy: 0.5319 - lr: 0.0010\n",
            "Epoch 8/50\n",
            "288/288 [==============================] - 8s 29ms/step - loss: 1.1536 - accuracy: 0.5626 - val_loss: 1.1900 - val_accuracy: 0.5495 - lr: 0.0010\n",
            "Epoch 9/50\n",
            "288/288 [==============================] - 8s 29ms/step - loss: 1.1315 - accuracy: 0.5710 - val_loss: 1.1628 - val_accuracy: 0.5592 - lr: 0.0010\n",
            "Epoch 10/50\n",
            "288/288 [==============================] - 8s 29ms/step - loss: 1.0973 - accuracy: 0.5828 - val_loss: 1.1424 - val_accuracy: 0.5648 - lr: 0.0010\n",
            "Epoch 11/50\n",
            "288/288 [==============================] - 8s 29ms/step - loss: 1.0763 - accuracy: 0.5928 - val_loss: 1.1629 - val_accuracy: 0.5653 - lr: 0.0010\n",
            "Epoch 12/50\n",
            "288/288 [==============================] - 8s 29ms/step - loss: 1.0515 - accuracy: 0.6028 - val_loss: 1.1602 - val_accuracy: 0.5726 - lr: 0.0010\n",
            "Epoch 13/50\n",
            "288/288 [==============================] - 8s 29ms/step - loss: 1.0334 - accuracy: 0.6071 - val_loss: 1.1102 - val_accuracy: 0.5901 - lr: 0.0010\n",
            "Epoch 14/50\n",
            "288/288 [==============================] - 9s 30ms/step - loss: 1.0151 - accuracy: 0.6163 - val_loss: 1.1837 - val_accuracy: 0.5681 - lr: 0.0010\n",
            "Epoch 15/50\n",
            "288/288 [==============================] - 8s 29ms/step - loss: 0.9917 - accuracy: 0.6258 - val_loss: 1.1308 - val_accuracy: 0.6024 - lr: 0.0010\n",
            "Epoch 16/50\n",
            "288/288 [==============================] - 8s 29ms/step - loss: 0.9838 - accuracy: 0.6281 - val_loss: 1.1129 - val_accuracy: 0.5890 - lr: 0.0010\n",
            "Epoch 17/50\n",
            "288/288 [==============================] - 9s 30ms/step - loss: 0.9600 - accuracy: 0.6432 - val_loss: 1.1007 - val_accuracy: 0.6149 - lr: 0.0010\n",
            "Epoch 18/50\n",
            "288/288 [==============================] - 8s 29ms/step - loss: 0.9408 - accuracy: 0.6477 - val_loss: 1.1167 - val_accuracy: 0.6096 - lr: 0.0010\n",
            "Epoch 19/50\n",
            "288/288 [==============================] - 9s 30ms/step - loss: 0.9205 - accuracy: 0.6557 - val_loss: 1.4206 - val_accuracy: 0.5347 - lr: 0.0010\n",
            "Epoch 20/50\n",
            "288/288 [==============================] - 8s 29ms/step - loss: 0.9085 - accuracy: 0.6624 - val_loss: 1.0781 - val_accuracy: 0.6121 - lr: 0.0010\n",
            "Epoch 21/50\n",
            "288/288 [==============================] - 8s 29ms/step - loss: 0.8431 - accuracy: 0.6833 - val_loss: 1.0879 - val_accuracy: 0.6199 - lr: 2.0000e-04\n",
            "Epoch 22/50\n",
            "288/288 [==============================] - 8s 29ms/step - loss: 0.8149 - accuracy: 0.6962 - val_loss: 1.0833 - val_accuracy: 0.6247 - lr: 2.0000e-04\n",
            "Epoch 23/50\n",
            "288/288 [==============================] - 8s 29ms/step - loss: 0.7952 - accuracy: 0.7031 - val_loss: 1.0899 - val_accuracy: 0.6205 - lr: 2.0000e-04\n",
            "Epoch 24/50\n",
            "288/288 [==============================] - 8s 29ms/step - loss: 0.7868 - accuracy: 0.7085 - val_loss: 1.0984 - val_accuracy: 0.6239 - lr: 2.0000e-04\n",
            "Epoch 25/50\n",
            "288/288 [==============================] - 8s 29ms/step - loss: 0.7707 - accuracy: 0.7125 - val_loss: 1.0856 - val_accuracy: 0.6264 - lr: 2.0000e-04\n",
            "Epoch 26/50\n",
            "288/288 [==============================] - 8s 29ms/step - loss: 0.7652 - accuracy: 0.7146 - val_loss: 1.0919 - val_accuracy: 0.6280 - lr: 2.0000e-04\n",
            "Epoch 27/50\n",
            "288/288 [==============================] - 9s 31ms/step - loss: 0.7478 - accuracy: 0.7238 - val_loss: 1.0845 - val_accuracy: 0.6322 - lr: 2.0000e-04\n",
            "Epoch 28/50\n",
            "288/288 [==============================] - 8s 29ms/step - loss: 0.7386 - accuracy: 0.7274 - val_loss: 1.1152 - val_accuracy: 0.6275 - lr: 2.0000e-04\n",
            "Epoch 29/50\n",
            "288/288 [==============================] - 9s 30ms/step - loss: 0.7353 - accuracy: 0.7268 - val_loss: 1.0952 - val_accuracy: 0.6280 - lr: 2.0000e-04\n",
            "Epoch 30/50\n",
            "288/288 [==============================] - 8s 30ms/step - loss: 0.7260 - accuracy: 0.7307 - val_loss: 1.1149 - val_accuracy: 0.6275 - lr: 2.0000e-04\n",
            "Epoch 31/50\n",
            "288/288 [==============================] - 9s 31ms/step - loss: 0.7013 - accuracy: 0.7408 - val_loss: 1.1079 - val_accuracy: 0.6328 - lr: 4.0000e-05\n",
            "Epoch 32/50\n",
            "288/288 [==============================] - 8s 30ms/step - loss: 0.6993 - accuracy: 0.7434 - val_loss: 1.1087 - val_accuracy: 0.6367 - lr: 4.0000e-05\n",
            "Epoch 33/50\n",
            "288/288 [==============================] - 8s 30ms/step - loss: 0.6980 - accuracy: 0.7382 - val_loss: 1.1003 - val_accuracy: 0.6347 - lr: 4.0000e-05\n",
            "Epoch 34/50\n",
            "288/288 [==============================] - 9s 30ms/step - loss: 0.6962 - accuracy: 0.7435 - val_loss: 1.1041 - val_accuracy: 0.6383 - lr: 4.0000e-05\n",
            "Epoch 35/50\n",
            "288/288 [==============================] - 9s 30ms/step - loss: 0.6869 - accuracy: 0.7470 - val_loss: 1.1166 - val_accuracy: 0.6375 - lr: 4.0000e-05\n",
            "Epoch 36/50\n",
            "288/288 [==============================] - 9s 30ms/step - loss: 0.6828 - accuracy: 0.7490 - val_loss: 1.1124 - val_accuracy: 0.6375 - lr: 4.0000e-05\n",
            "Epoch 37/50\n",
            "288/288 [==============================] - 9s 31ms/step - loss: 0.6845 - accuracy: 0.7472 - val_loss: 1.1061 - val_accuracy: 0.6372 - lr: 4.0000e-05\n",
            "Epoch 38/50\n",
            "288/288 [==============================] - 9s 31ms/step - loss: 0.6870 - accuracy: 0.7435 - val_loss: 1.1070 - val_accuracy: 0.6367 - lr: 8.0000e-06\n",
            "Epoch 39/50\n",
            "288/288 [==============================] - 9s 31ms/step - loss: 0.6760 - accuracy: 0.7480 - val_loss: 1.1082 - val_accuracy: 0.6389 - lr: 8.0000e-06\n",
            "Epoch 40/50\n",
            "288/288 [==============================] - 8s 29ms/step - loss: 0.6831 - accuracy: 0.7445 - val_loss: 1.1096 - val_accuracy: 0.6364 - lr: 8.0000e-06\n",
            "Epoch 41/50\n",
            "288/288 [==============================] - 9s 30ms/step - loss: 0.6785 - accuracy: 0.7481 - val_loss: 1.1121 - val_accuracy: 0.6372 - lr: 8.0000e-06\n",
            "Epoch 42/50\n",
            "288/288 [==============================] - 9s 30ms/step - loss: 0.6738 - accuracy: 0.7496 - val_loss: 1.1108 - val_accuracy: 0.6389 - lr: 8.0000e-06\n",
            "Epoch 43/50\n",
            "288/288 [==============================] - 9s 31ms/step - loss: 0.6747 - accuracy: 0.7509 - val_loss: 1.1099 - val_accuracy: 0.6395 - lr: 1.6000e-06\n",
            "Epoch 44/50\n",
            "288/288 [==============================] - 9s 30ms/step - loss: 0.6712 - accuracy: 0.7524 - val_loss: 1.1109 - val_accuracy: 0.6372 - lr: 1.6000e-06\n",
            "Epoch 45/50\n",
            "288/288 [==============================] - 9s 31ms/step - loss: 0.6769 - accuracy: 0.7505 - val_loss: 1.1107 - val_accuracy: 0.6381 - lr: 1.6000e-06\n",
            "Epoch 46/50\n",
            "288/288 [==============================] - 9s 30ms/step - loss: 0.6778 - accuracy: 0.7481 - val_loss: 1.1107 - val_accuracy: 0.6383 - lr: 1.6000e-06\n",
            "Epoch 47/50\n",
            "288/288 [==============================] - 9s 31ms/step - loss: 0.6766 - accuracy: 0.7505 - val_loss: 1.1115 - val_accuracy: 0.6378 - lr: 1.0000e-06\n",
            "Epoch 48/50\n",
            "288/288 [==============================] - 9s 31ms/step - loss: 0.6749 - accuracy: 0.7511 - val_loss: 1.1109 - val_accuracy: 0.6378 - lr: 1.0000e-06\n",
            "Epoch 49/50\n",
            "288/288 [==============================] - 9s 30ms/step - loss: 0.6780 - accuracy: 0.7486 - val_loss: 1.1100 - val_accuracy: 0.6392 - lr: 1.0000e-06\n",
            "Epoch 50/50\n",
            "288/288 [==============================] - 9s 30ms/step - loss: 0.6726 - accuracy: 0.7514 - val_loss: 1.1113 - val_accuracy: 0.6375 - lr: 1.0000e-06\n"
          ]
        }
      ],
      "source": [
        "history = model.fit(X_train, Y_train, validation_data=[X_val, Y_val], epochs=50, batch_size = 100, callbacks=[lr_anneal])"
      ]
    },
    {
      "cell_type": "code",
      "execution_count": null,
      "metadata": {
        "colab": {
          "base_uri": "https://localhost:8080/"
        },
        "id": "kfx7c1vbPb2c",
        "outputId": "ccedc82b-d13e-4c82-8c96-c8a2a92bd07d"
      },
      "outputs": [
        {
          "output_type": "stream",
          "name": "stdout",
          "text": [
            "36/36 [==============================] - 1s 15ms/step - loss: 1.0532 - accuracy: 0.6509\n",
            "Test score: 1.0531909465789795\n",
            "Test accuracy: 0.6508776545524597\n"
          ]
        }
      ],
      "source": [
        "score, acc = model.evaluate(X_test, Y_test, batch_size=100)\n",
        "print('Test score:', score)\n",
        "print(\"Test accuracy:\", acc)"
      ]
    },
    {
      "cell_type": "code",
      "source": [
        "model.save('CNN.h5')"
      ],
      "metadata": {
        "id": "TwuIg6Kr4mKh"
      },
      "execution_count": null,
      "outputs": []
    },
    {
      "cell_type": "code",
      "source": [
        "model_json = model.to_json()\n",
        "with open(\"CNN.json\", \"w\") as json_file:\n",
        "    json_file.write(model_json)\n",
        "model.save_weights(\"weights.h5\")\n",
        "print(\"Saved model to disk\")"
      ],
      "metadata": {
        "colab": {
          "base_uri": "https://localhost:8080/"
        },
        "id": "Q7J-Cqg95CFL",
        "outputId": "2b69d92e-2d84-40f3-c1fc-5bad5d3a5b66"
      },
      "execution_count": null,
      "outputs": [
        {
          "output_type": "stream",
          "name": "stdout",
          "text": [
            "Saved model to disk\n"
          ]
        }
      ]
    },
    {
      "cell_type": "code",
      "source": [
        ""
      ],
      "metadata": {
        "id": "NYJE-APu6ivP"
      },
      "execution_count": null,
      "outputs": []
    }
  ],
  "metadata": {
    "kernelspec": {
      "display_name": "Python 3",
      "language": "python",
      "name": "python3"
    },
    "language_info": {
      "codemirror_mode": {
        "name": "ipython",
        "version": 3
      },
      "file_extension": ".py",
      "mimetype": "text/x-python",
      "name": "python",
      "nbconvert_exporter": "python",
      "pygments_lexer": "ipython3",
      "version": "3.8.5"
    },
    "colab": {
      "name": "Emotion.ipynb",
      "provenance": []
    },
    "accelerator": "GPU"
  },
  "nbformat": 4,
  "nbformat_minor": 0
}